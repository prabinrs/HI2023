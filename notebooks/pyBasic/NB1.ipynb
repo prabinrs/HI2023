{
 "cells": [
  {
   "cell_type": "markdown",
   "metadata": {},
   "source": [
    "[![Open In Colab](https://colab.research.google.com/assets/colab-badge.svg)](https://colab.research.google.com/github/prabinrs/HI2023/blob/main/notebooks/pyBasic/NB1.ipynb)"
   ]
  },
  {
   "cell_type": "markdown",
   "metadata": {},
   "source": [
    "# Python Tutorials\n",
    "\n",
    "## Introduction : \n",
    "Python is a versatile and beginner-friendly programming language. It is known for its clear syntax, readability, and extensive libraries. Python is widely used in various domains, including web development, data science, machine learning, and artificial intelligence.\n",
    "\n",
    "### Setting up Python:\n",
    "*we will be using the google colab for the practice, however we highly recommened to install python in your local devices as well. I personally prefer[![anaconda](https://www.anaconda.com/wp-content/uploads/2022/12/anaconda_logo.svg)](https://www.anaconda.com/download/).*"
   ]
  },
  {
   "cell_type": "markdown",
   "metadata": {},
   "source": [
    "## Basic Data Types \n",
    "![pythonDataStructures](./image/Python-data-structure.jpg)\n",
    "|Types| Sub-types |py cmd | Description / examples | \n",
    "|-----| ----  | -------| ----   |\n",
    "|Numeric| Integers | int | Whole Numbers (Positive, Negative or Zero)  x = 50|\n",
    "|Numeric| Floats | float |Decimal Numbers x = 50.0|\n",
    "|Numeric| Complex | complex | x = 2j |\n",
    "|Text| Strings | str |Text or Numbers enclosed in single or double quotes \"Health Data Science\"|\n",
    "| Booleans |Booleans| bool | True or False values x = True|\n",
    "|Sequence | List | list | collection of data x = [\"Health\", \"Data\", \"Sceince\", 2023] | \n",
    "|Sequence | Tuple | tuple |same as list but can't be modified(immutable), x = ('Health', 'Data', 'Science') | \n",
    "|Sequence | Set | set |same as list but no duplicate elements, x = {'Health', 'Data', 'Science'} |\n",
    "|Mapping | Dictionary | dict| unordered, store key-value map, x = {'subject':\"Health Data Science\", 'noStudent':10} | \n",
    "|None | None | None | | \n",
    "\n",
    "\n",
    "**Check the Data type** \n",
    "to check the data type use *type(var)*"
   ]
  },
  {
   "cell_type": "markdown",
   "metadata": {},
   "source": [
    "### Numerical Type"
   ]
  },
  {
   "cell_type": "code",
   "execution_count": 1,
   "metadata": {},
   "outputs": [
    {
     "name": "stdout",
     "output_type": "stream",
     "text": [
      "type of x <class 'int'> \n",
      "type of y <class 'float'>\n"
     ]
    }
   ],
   "source": [
    "# the line start with '#' is comment it is not executed \n",
    "\n",
    "# Numerical Data types (int and float)\n",
    "x = 10 \n",
    "y = 10.0 \n",
    "print('type of x', type(x), '\\ntype of y', type(y))"
   ]
  },
  {
   "cell_type": "markdown",
   "metadata": {},
   "source": [
    "If we add int numberical data type with float numerical data type. what will be the data type of the result? "
   ]
  },
  {
   "cell_type": "code",
   "execution_count": 2,
   "metadata": {},
   "outputs": [],
   "source": [
    "a  = x+y \n",
    "## type your command to check the data type of a "
   ]
  },
  {
   "cell_type": "code",
   "execution_count": null,
   "metadata": {},
   "outputs": [],
   "source": [
    "## check with multiplication and division : \n"
   ]
  },
  {
   "cell_type": "markdown",
   "metadata": {},
   "source": [
    "Complex numbers is specifieid as (real part)+(imiginary part)j"
   ]
  },
  {
   "cell_type": "code",
   "execution_count": 11,
   "metadata": {},
   "outputs": [
    {
     "data": {
      "text/plain": [
       "(complex, float, complex, (11+2j))"
      ]
     },
     "execution_count": 11,
     "metadata": {},
     "output_type": "execute_result"
    }
   ],
   "source": [
    "x = 1+2j\n",
    "type(x), type(y), type(x+y), x+y"
   ]
  },
  {
   "cell_type": "markdown",
   "metadata": {},
   "source": [
    "### Text Type \n",
    "\n",
    "#### Strings : \n",
    "collection of one or more chracters put in a single quote, double quote, or triple-quote. \n"
   ]
  },
  {
   "cell_type": "code",
   "execution_count": null,
   "metadata": {},
   "outputs": [],
   "source": [
    "str1 = 'String with single quote'\n",
    "str2 = \"this one is with double quote\"\n",
    "str3 = ''' this \n",
    "                is \n",
    "                    with \n",
    "                        triple-quote. '''\n",
    "\n",
    "# check the type of the these variables  \n"
   ]
  },
  {
   "cell_type": "markdown",
   "metadata": {},
   "source": [
    "### Boolean \n",
    "True and False "
   ]
  },
  {
   "cell_type": "code",
   "execution_count": 12,
   "metadata": {},
   "outputs": [
    {
     "name": "stdout",
     "output_type": "stream",
     "text": [
      "Data type of bol1 <class 'bool'>, Data type of bol2 <class 'bool'>\n"
     ]
    }
   ],
   "source": [
    "bol1 = True \n",
    "bol2 = 2<1\n",
    "\n",
    "# check the type of the these variables with\n",
    "print('Data type of bol1 {tbol1}, Data type of bol2 {tbol2}'.format(tbol1 = type(bol1), tbol2 = type(bol2)))"
   ]
  },
  {
   "cell_type": "markdown",
   "metadata": {},
   "source": [
    "## Sequence \n",
    "\n",
    "### List \n",
    "- ordered collection \n",
    "- can hold different data types (i.e mix of strings, float, int etc. )\n",
    "- can be created using square brakets []"
   ]
  },
  {
   "cell_type": "code",
   "execution_count": 13,
   "metadata": {},
   "outputs": [],
   "source": [
    "lst1 = ['Data', 'Science']\n",
    "lst2 = [1,2,3]\n",
    "lst3 = ['Data', 1, 2, 'ok', 1.2, 2+4j]\n",
    "lst4 = [['Health'], ['Data', 'Science']]"
   ]
  },
  {
   "cell_type": "markdown",
   "metadata": {},
   "source": [
    "### Tuple \n",
    "- ordered collection \n",
    "- immutable (can't be modified)\n",
    "- can be created using parentheses (), but not the sufficient condition. "
   ]
  },
  {
   "cell_type": "code",
   "execution_count": 14,
   "metadata": {},
   "outputs": [],
   "source": [
    "tup1 = ('Health', 'Data', 'Science')\n",
    "tup2 = (203,204,403,506)\n",
    "tup3 = (tup1,tup2)\n",
    "tup4 = ('Health Data Science')\n",
    "tup5 = tuple('python')\n",
    "\n",
    "## Identify which is not the tuple .."
   ]
  },
  {
   "cell_type": "markdown",
   "metadata": {},
   "source": [
    "### Set \n",
    "- unordered collection of data \n",
    "- has no duplicate elements and mutable \n",
    "- can be created using {} "
   ]
  },
  {
   "cell_type": "code",
   "execution_count": 17,
   "metadata": {},
   "outputs": [],
   "source": [
    "set1 = {1,2,3,4}\n",
    "set2 = set([1,2,2,3,4,4,4,4])\n",
    "set3 = set(lst2)"
   ]
  },
  {
   "cell_type": "markdown",
   "metadata": {},
   "source": [
    "## Mapping \n",
    "### Dictionary \n",
    "- unordered collection of data \n",
    "- Key - value mapping (store data values like map)"
   ]
  },
  {
   "cell_type": "code",
   "execution_count": 20,
   "metadata": {},
   "outputs": [],
   "source": [
    "dict1 = {'subject':'Health Data Science', \n",
    "        'Number_student':8}\n",
    "dict2 = {'PNum':[1,2,3,4],'icd_code':['I50','488','I11.1','A20.2']}\n",
    "dict3 = dict([('PNum',[1,2,3,4]), ('icd_code',['I50','488','I11.1','A20.2'])])"
   ]
  },
  {
   "cell_type": "markdown",
   "metadata": {},
   "source": [
    "## None\n",
    "- absence of a value. \n",
    "- not same as 0, False or an empty string '', NA (missing value)"
   ]
  },
  {
   "cell_type": "code",
   "execution_count": 22,
   "metadata": {},
   "outputs": [],
   "source": [
    "n1 = None "
   ]
  },
  {
   "cell_type": "markdown",
   "metadata": {},
   "source": [
    "## Mathematical Operations \n",
    " - Addition \n",
    " - Substraction \n",
    " - Multiplication \n",
    " - Division \n",
    " - Exponential \n",
    " - Modulus (remainder from division)\n",
    " - Floor (integer for division)"
   ]
  },
  {
   "cell_type": "code",
   "execution_count": null,
   "metadata": {},
   "outputs": [],
   "source": [
    "print('# addition 5+8 = ' , 5+8)\n",
    "print('# subtraction 5-8  = ', 5-8)\n",
    "print('# multiplication 5*8 =',5*8)  \n",
    "print('# division 5/8 =', 5/8) \n",
    "print(5**8)  # exponential\n",
    "print(5//8)  # returns only integer for division\n",
    "print(5%8)  # outputs remainder from division\n"
   ]
  }
 ],
 "metadata": {
  "kernelspec": {
   "display_name": "base",
   "language": "python",
   "name": "python3"
  },
  "language_info": {
   "codemirror_mode": {
    "name": "ipython",
    "version": 3
   },
   "file_extension": ".py",
   "mimetype": "text/x-python",
   "name": "python",
   "nbconvert_exporter": "python",
   "pygments_lexer": "ipython3",
   "version": "3.9.13"
  }
 },
 "nbformat": 4,
 "nbformat_minor": 2
}
